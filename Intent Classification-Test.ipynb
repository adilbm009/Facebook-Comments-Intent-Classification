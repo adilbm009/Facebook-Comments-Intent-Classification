{
 "cells": [
  {
   "cell_type": "code",
   "execution_count": 6,
   "id": "c43c2fcf",
   "metadata": {
    "id": "3b1b32c9",
    "scrolled": true
   },
   "outputs": [],
   "source": [
    "#Loading Custom Functions\n",
    "from UTILS.Similarity_search_GUSE_FAISS import *\n",
    "from UTILS.custom_preprocessing_function import *\n",
    "from custom_check_intent import *"
   ]
  },
  {
   "cell_type": "code",
   "execution_count": 7,
   "id": "5526be87",
   "metadata": {
    "scrolled": true
   },
   "outputs": [],
   "source": [
    "df = pd.read_csv(r'out.csv')\n",
    "kpi_df = pd.read_excel(r'kpi_df.xlsx')"
   ]
  },
  {
   "cell_type": "code",
   "execution_count": 8,
   "id": "adfbaa81",
   "metadata": {},
   "outputs": [],
   "source": [
    "#Applying Preprocessing\n",
    "df=df[~(df.FeedText=='')]\n",
    "df.dropna(subset=['FeedText'], inplace=True)\n",
    "df = df.drop_duplicates(subset = ['FeedText'],keep = 'last').reset_index(drop = True)\n",
    "df['FeedText'] = df['FeedText'].apply(remove_emoji)\n",
    "df['FeedText'] = df.FeedText.dropna().apply(clean_text).map(lambda x: ' '.join(i for i in x))\n",
    "df=df[~(df.FeedText=='')]"
   ]
  },
  {
   "cell_type": "code",
   "execution_count": 9,
   "id": "8e232d6f",
   "metadata": {
    "scrolled": true
   },
   "outputs": [
    {
     "name": "stdout",
     "output_type": "stream",
     "text": [
      "CPU times: total: 2h 15min 35s\n",
      "Wall time: 46min 9s\n"
     ]
    }
   ],
   "source": [
    "%%time\n",
    "result = df.groupby('Id').apply(lambda x: check_intent(x, kpi_df , kpi_type=\"check_intent\"))"
   ]
  },
  {
   "cell_type": "code",
   "execution_count": 13,
   "id": "c1000d97",
   "metadata": {},
   "outputs": [],
   "source": [
    "#Converting the results to dataframe\n",
    "resultdf= pd.DataFrame(result)\n",
    "resultdf.reset_index(inplace=True)\n",
    "resultdf['user_name'] = [i['score'][0][1] if len(i['score'])>0 else 'NA' for i in resultdf[0]]\n",
    "resultdf['intent'] = [i['score'][0][2] if len(i['score'])>0 else 'NA' for i in resultdf[0]]"
   ]
  },
  {
   "cell_type": "code",
   "execution_count": 14,
   "id": "79b593d1",
   "metadata": {
    "scrolled": true
   },
   "outputs": [
    {
     "data": {
      "text/html": [
       "<div>\n",
       "<style scoped>\n",
       "    .dataframe tbody tr th:only-of-type {\n",
       "        vertical-align: middle;\n",
       "    }\n",
       "\n",
       "    .dataframe tbody tr th {\n",
       "        vertical-align: top;\n",
       "    }\n",
       "\n",
       "    .dataframe thead th {\n",
       "        text-align: right;\n",
       "    }\n",
       "</style>\n",
       "<table border=\"1\" class=\"dataframe\">\n",
       "  <thead>\n",
       "    <tr style=\"text-align: right;\">\n",
       "      <th></th>\n",
       "      <th>Id</th>\n",
       "      <th>0</th>\n",
       "      <th>user_name</th>\n",
       "      <th>intent</th>\n",
       "    </tr>\n",
       "  </thead>\n",
       "  <tbody>\n",
       "    <tr>\n",
       "      <th>0</th>\n",
       "      <td>5b1aa7ee8bb55b300895a774</td>\n",
       "      <td>{'kpi_id': 1, 'kpi_name': 'CHECK_INTENT', 'sco...</td>\n",
       "      <td>Shawn Lemoine</td>\n",
       "      <td>neutral</td>\n",
       "    </tr>\n",
       "    <tr>\n",
       "      <th>1</th>\n",
       "      <td>5b1aa7ee8bb55b300895a776</td>\n",
       "      <td>{'kpi_id': 1, 'kpi_name': 'CHECK_INTENT', 'sco...</td>\n",
       "      <td>Shawn Lemoine</td>\n",
       "      <td>neutral</td>\n",
       "    </tr>\n",
       "    <tr>\n",
       "      <th>2</th>\n",
       "      <td>5b1aa7ee8bb55b300895a778</td>\n",
       "      <td>{'kpi_id': 1, 'kpi_name': 'CHECK_INTENT', 'sco...</td>\n",
       "      <td>Shawn Lemoine</td>\n",
       "      <td>neutral</td>\n",
       "    </tr>\n",
       "    <tr>\n",
       "      <th>3</th>\n",
       "      <td>5b1aa7ee8bb55b300895a77a</td>\n",
       "      <td>{'kpi_id': 1, 'kpi_name': 'CHECK_INTENT', 'sco...</td>\n",
       "      <td>Gian Fortuin</td>\n",
       "      <td>neutral</td>\n",
       "    </tr>\n",
       "    <tr>\n",
       "      <th>4</th>\n",
       "      <td>5b1aa7ee8bb55b300895a77c</td>\n",
       "      <td>{'kpi_id': 1, 'kpi_name': 'CHECK_INTENT', 'sco...</td>\n",
       "      <td>Shawn Lemoine</td>\n",
       "      <td>neutral</td>\n",
       "    </tr>\n",
       "    <tr>\n",
       "      <th>...</th>\n",
       "      <td>...</td>\n",
       "      <td>...</td>\n",
       "      <td>...</td>\n",
       "      <td>...</td>\n",
       "    </tr>\n",
       "    <tr>\n",
       "      <th>134854</th>\n",
       "      <td>5d11b492a3df6323f881ab73</td>\n",
       "      <td>{'kpi_id': 1, 'kpi_name': 'CHECK_INTENT', 'sco...</td>\n",
       "      <td>Marwa Mohamed</td>\n",
       "      <td>neutral</td>\n",
       "    </tr>\n",
       "    <tr>\n",
       "      <th>134855</th>\n",
       "      <td>5d11b7e7a3df6323f881ab77</td>\n",
       "      <td>{'kpi_id': 1, 'kpi_name': 'CHECK_INTENT', 'sco...</td>\n",
       "      <td>Oun Sida</td>\n",
       "      <td>neutral</td>\n",
       "    </tr>\n",
       "    <tr>\n",
       "      <th>134856</th>\n",
       "      <td>5d11b7e7a3df6323f881ab7b</td>\n",
       "      <td>{'kpi_id': 1, 'kpi_name': 'CHECK_INTENT', 'sco...</td>\n",
       "      <td>Jonathan Reeves</td>\n",
       "      <td>neutral</td>\n",
       "    </tr>\n",
       "    <tr>\n",
       "      <th>134857</th>\n",
       "      <td>5d11b7e7a3df6323f881ab7f</td>\n",
       "      <td>{'kpi_id': 1, 'kpi_name': 'CHECK_INTENT', 'sco...</td>\n",
       "      <td>Michael Dass Sumaylo</td>\n",
       "      <td>neutral</td>\n",
       "    </tr>\n",
       "    <tr>\n",
       "      <th>134858</th>\n",
       "      <td>5d11b7e7a3df6323f881ab81</td>\n",
       "      <td>{'kpi_id': 1, 'kpi_name': 'CHECK_INTENT', 'sco...</td>\n",
       "      <td>William Ugwu</td>\n",
       "      <td>neutral</td>\n",
       "    </tr>\n",
       "  </tbody>\n",
       "</table>\n",
       "<p>134859 rows × 4 columns</p>\n",
       "</div>"
      ],
      "text/plain": [
       "                              Id  \\\n",
       "0       5b1aa7ee8bb55b300895a774   \n",
       "1       5b1aa7ee8bb55b300895a776   \n",
       "2       5b1aa7ee8bb55b300895a778   \n",
       "3       5b1aa7ee8bb55b300895a77a   \n",
       "4       5b1aa7ee8bb55b300895a77c   \n",
       "...                          ...   \n",
       "134854  5d11b492a3df6323f881ab73   \n",
       "134855  5d11b7e7a3df6323f881ab77   \n",
       "134856  5d11b7e7a3df6323f881ab7b   \n",
       "134857  5d11b7e7a3df6323f881ab7f   \n",
       "134858  5d11b7e7a3df6323f881ab81   \n",
       "\n",
       "                                                        0  \\\n",
       "0       {'kpi_id': 1, 'kpi_name': 'CHECK_INTENT', 'sco...   \n",
       "1       {'kpi_id': 1, 'kpi_name': 'CHECK_INTENT', 'sco...   \n",
       "2       {'kpi_id': 1, 'kpi_name': 'CHECK_INTENT', 'sco...   \n",
       "3       {'kpi_id': 1, 'kpi_name': 'CHECK_INTENT', 'sco...   \n",
       "4       {'kpi_id': 1, 'kpi_name': 'CHECK_INTENT', 'sco...   \n",
       "...                                                   ...   \n",
       "134854  {'kpi_id': 1, 'kpi_name': 'CHECK_INTENT', 'sco...   \n",
       "134855  {'kpi_id': 1, 'kpi_name': 'CHECK_INTENT', 'sco...   \n",
       "134856  {'kpi_id': 1, 'kpi_name': 'CHECK_INTENT', 'sco...   \n",
       "134857  {'kpi_id': 1, 'kpi_name': 'CHECK_INTENT', 'sco...   \n",
       "134858  {'kpi_id': 1, 'kpi_name': 'CHECK_INTENT', 'sco...   \n",
       "\n",
       "                   user_name   intent  \n",
       "0              Shawn Lemoine  neutral  \n",
       "1              Shawn Lemoine  neutral  \n",
       "2              Shawn Lemoine  neutral  \n",
       "3               Gian Fortuin  neutral  \n",
       "4              Shawn Lemoine  neutral  \n",
       "...                      ...      ...  \n",
       "134854         Marwa Mohamed  neutral  \n",
       "134855              Oun Sida  neutral  \n",
       "134856       Jonathan Reeves  neutral  \n",
       "134857  Michael Dass Sumaylo  neutral  \n",
       "134858          William Ugwu  neutral  \n",
       "\n",
       "[134859 rows x 4 columns]"
      ]
     },
     "execution_count": 14,
     "metadata": {},
     "output_type": "execute_result"
    }
   ],
   "source": [
    "resultdf"
   ]
  },
  {
   "cell_type": "code",
   "execution_count": 12,
   "id": "6ea91818",
   "metadata": {
    "scrolled": true
   },
   "outputs": [
    {
     "data": {
      "text/plain": [
       "neutral         134456\n",
       "buyer              250\n",
       "buyer_seller       105\n",
       "seller              48\n",
       "Name: intent, dtype: int64"
      ]
     },
     "execution_count": 12,
     "metadata": {},
     "output_type": "execute_result"
    }
   ],
   "source": [
    "resultdf['intent'].value_counts()"
   ]
  },
  {
   "cell_type": "code",
   "execution_count": null,
   "id": "6fe2e63a",
   "metadata": {},
   "outputs": [],
   "source": [
    "resultdf.to_excel('resultdf.xlsx')"
   ]
  },
  {
   "cell_type": "code",
   "execution_count": null,
   "id": "2e399a00",
   "metadata": {},
   "outputs": [],
   "source": []
  },
  {
   "cell_type": "code",
   "execution_count": null,
   "id": "8d172420",
   "metadata": {},
   "outputs": [],
   "source": []
  },
  {
   "cell_type": "code",
   "execution_count": null,
   "id": "0f4a0627",
   "metadata": {},
   "outputs": [],
   "source": []
  }
 ],
 "metadata": {
  "colab": {
   "provenance": []
  },
  "kernelspec": {
   "display_name": "Python 3 (ipykernel)",
   "language": "python",
   "name": "python3"
  },
  "language_info": {
   "codemirror_mode": {
    "name": "ipython",
    "version": 3
   },
   "file_extension": ".py",
   "mimetype": "text/x-python",
   "name": "python",
   "nbconvert_exporter": "python",
   "pygments_lexer": "ipython3",
   "version": "3.10.3"
  }
 },
 "nbformat": 4,
 "nbformat_minor": 5
}
